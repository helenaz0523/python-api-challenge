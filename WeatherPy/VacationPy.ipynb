{
 "cells": [
  {
   "cell_type": "markdown",
   "metadata": {},
   "source": [
    "# VacationPy\n",
    "----\n",
    "\n",
    "#### Note\n",
    "* Keep an eye on your API usage. Use https://developers.google.com/maps/reporting/gmp-reporting as reference for how to monitor your usage and billing.\n",
    "\n",
    "* Instructions have been included for each segment. You do not have to follow them exactly, but they are included to help you think through the steps."
   ]
  },
  {
   "cell_type": "code",
   "execution_count": 1,
   "metadata": {},
   "outputs": [],
   "source": [
    "# Dependencies and Setup\n",
    "import matplotlib.pyplot as plt\n",
    "import pandas as pd\n",
    "import numpy as np\n",
    "import requests\n",
    "import gmaps\n",
    "import gmaps.datasets\n",
    "import os\n",
    "import json\n",
    "\n",
    "# Import API key\n",
    "from api_keys import g_key"
   ]
  },
  {
   "cell_type": "markdown",
   "metadata": {},
   "source": [
    "### Store Part I results into DataFrame\n",
    "* Load the csv exported in Part I to a DataFrame"
   ]
  },
  {
   "cell_type": "code",
   "execution_count": 9,
   "metadata": {},
   "outputs": [
    {
     "data": {
      "text/html": [
       "<div>\n",
       "<style scoped>\n",
       "    .dataframe tbody tr th:only-of-type {\n",
       "        vertical-align: middle;\n",
       "    }\n",
       "\n",
       "    .dataframe tbody tr th {\n",
       "        vertical-align: top;\n",
       "    }\n",
       "\n",
       "    .dataframe thead th {\n",
       "        text-align: right;\n",
       "    }\n",
       "</style>\n",
       "<table border=\"1\" class=\"dataframe\">\n",
       "  <thead>\n",
       "    <tr style=\"text-align: right;\">\n",
       "      <th></th>\n",
       "      <th>City</th>\n",
       "      <th>Country</th>\n",
       "      <th>Date</th>\n",
       "      <th>Lat</th>\n",
       "      <th>Lng</th>\n",
       "      <th>Cloudiness (%)</th>\n",
       "      <th>Humidity (%)</th>\n",
       "      <th>Max Temp (F)</th>\n",
       "      <th>Wind Speed (mph)</th>\n",
       "    </tr>\n",
       "  </thead>\n",
       "  <tbody>\n",
       "    <tr>\n",
       "      <th>0</th>\n",
       "      <td>Rikitea</td>\n",
       "      <td>PF</td>\n",
       "      <td>1627950562</td>\n",
       "      <td>-23.1203</td>\n",
       "      <td>-134.9692</td>\n",
       "      <td>82</td>\n",
       "      <td>55</td>\n",
       "      <td>69.93</td>\n",
       "      <td>19.60</td>\n",
       "    </tr>\n",
       "    <tr>\n",
       "      <th>1</th>\n",
       "      <td>Busselton</td>\n",
       "      <td>AU</td>\n",
       "      <td>1627950580</td>\n",
       "      <td>-33.6500</td>\n",
       "      <td>115.3333</td>\n",
       "      <td>100</td>\n",
       "      <td>79</td>\n",
       "      <td>47.05</td>\n",
       "      <td>7.74</td>\n",
       "    </tr>\n",
       "    <tr>\n",
       "      <th>2</th>\n",
       "      <td>Linxia Chengguanzhen</td>\n",
       "      <td>CN</td>\n",
       "      <td>1627950645</td>\n",
       "      <td>35.6003</td>\n",
       "      <td>103.2064</td>\n",
       "      <td>100</td>\n",
       "      <td>88</td>\n",
       "      <td>59.05</td>\n",
       "      <td>4.99</td>\n",
       "    </tr>\n",
       "    <tr>\n",
       "      <th>3</th>\n",
       "      <td>Vaini</td>\n",
       "      <td>TO</td>\n",
       "      <td>1627950573</td>\n",
       "      <td>-21.2000</td>\n",
       "      <td>-175.2000</td>\n",
       "      <td>20</td>\n",
       "      <td>73</td>\n",
       "      <td>75.36</td>\n",
       "      <td>12.66</td>\n",
       "    </tr>\n",
       "    <tr>\n",
       "      <th>4</th>\n",
       "      <td>Zhicheng</td>\n",
       "      <td>CN</td>\n",
       "      <td>1627950645</td>\n",
       "      <td>30.2956</td>\n",
       "      <td>111.5047</td>\n",
       "      <td>7</td>\n",
       "      <td>79</td>\n",
       "      <td>85.19</td>\n",
       "      <td>8.23</td>\n",
       "    </tr>\n",
       "  </tbody>\n",
       "</table>\n",
       "</div>"
      ],
      "text/plain": [
       "                   City Country        Date      Lat       Lng  \\\n",
       "0               Rikitea      PF  1627950562 -23.1203 -134.9692   \n",
       "1             Busselton      AU  1627950580 -33.6500  115.3333   \n",
       "2  Linxia Chengguanzhen      CN  1627950645  35.6003  103.2064   \n",
       "3                 Vaini      TO  1627950573 -21.2000 -175.2000   \n",
       "4              Zhicheng      CN  1627950645  30.2956  111.5047   \n",
       "\n",
       "   Cloudiness (%)  Humidity (%)  Max Temp (F)  Wind Speed (mph)  \n",
       "0              82            55         69.93             19.60  \n",
       "1             100            79         47.05              7.74  \n",
       "2             100            88         59.05              4.99  \n",
       "3              20            73         75.36             12.66  \n",
       "4               7            79         85.19              8.23  "
      ]
     },
     "execution_count": 9,
     "metadata": {},
     "output_type": "execute_result"
    }
   ],
   "source": [
    "sourcefile='../WeatherPy/output_data/cityoutput.csv' \n",
    "\n",
    "# Read csv cities file and store into data frame:\n",
    "city_data=pd.read_csv(sourcefile)\n",
    "city_data.count()\n",
    "city_data.head()\n",
    "\n",
    "\n"
   ]
  },
  {
   "cell_type": "markdown",
   "metadata": {},
   "source": [
    "### Humidity Heatmap\n",
    "* Configure gmaps.\n",
    "* Use the Lat and Lng as locations and Humidity as the weight.\n",
    "* Add Heatmap layer to map."
   ]
  },
  {
   "cell_type": "code",
   "execution_count": 3,
   "metadata": {},
   "outputs": [
    {
     "data": {
      "text/plain": [
       "100"
      ]
     },
     "execution_count": 3,
     "metadata": {},
     "output_type": "execute_result"
    }
   ],
   "source": [
    "max_hum=city_data['Humidity (%)'].max()\n",
    "max_hum"
   ]
  },
  {
   "cell_type": "code",
   "execution_count": 31,
   "metadata": {},
   "outputs": [
    {
     "data": {
      "application/vnd.jupyter.widget-view+json": {
       "model_id": "0c442342fb9d4985b221907b239803c4",
       "version_major": 2,
       "version_minor": 0
      },
      "text/plain": [
       "Figure(layout=FigureLayout(height='420px'))"
      ]
     },
     "metadata": {},
     "output_type": "display_data"
    }
   ],
   "source": [
    "gmaps.configure(api_key=g_key)\n",
    "\n",
    "city_data=city_data.dropna() \n",
    "locations=city_data[['Lat', 'Lng']].astype(float)\n",
    "humidityintensity=city_data['Humidity (%)'].astype(float)\n",
    "\n",
    "fig=gmaps.figure(map_type='SATELLITE')\n",
    "heat_layer=gmaps.heatmap_layer(locations, weights=humidityintensity, max_intensity=max_hum,point_radius=3)\n",
    "fig.add_layer(heat_layer)\n",
    "fig\n"
   ]
  },
  {
   "cell_type": "markdown",
   "metadata": {},
   "source": [
    "### Create new DataFrame fitting weather criteria\n",
    "* Narrow down the cities to fit weather conditions.\n",
    "* Drop any rows will null values."
   ]
  },
  {
   "cell_type": "code",
   "execution_count": 5,
   "metadata": {},
   "outputs": [
    {
     "name": "stdout",
     "output_type": "stream",
     "text": [
      "Beginning Data Retrieval\n",
      "-----------------------------\n",
      "Looking for Hotels near: Baghlan | Record 1 of Total 3\n",
      "No Hotel Near Location... Skipping...\n",
      "Looking for Hotels near: Chaman | Record 2 of Total 3\n",
      "Looking for Hotels near: Moranbah | Record 3 of Total 3\n",
      "-------------------------------\n",
      "Data Retrieval Complete\n",
      "-------------------------------\n"
     ]
    }
   ],
   "source": [
    "city_data_narrow=city_data[(city_data['Max Temp (F)'] < 80) &\n",
    "                             (city_data['Max Temp (F)'] > 65) &\n",
    "                             (city_data['Wind Speed (mph)'] < 10) &\n",
    "                             (city_data['Cloudiness (%)'] < 15) &\n",
    "                             (city_data['Humidity (%)'] < 30)]\n",
    "city_data_narrow=city_data_narrow.dropna() \n",
    "city_data_narrow.count()\n",
    "city_data_narrow.head()\n",
    "# Set up lists to hold response info:\n",
    "name=[]        \n",
    "city=[]        \n",
    "country=[]      \n",
    "lat=[]          \n",
    "lng=[]         \n",
    "\n",
    "# Loop through the list of cities and perform a request for data on each and add to corresponding lists:\n",
    "\n",
    "count=1 \n",
    "\n",
    "print('Beginning Data Retrieval')     \n",
    "print('-----------------------------')\n",
    "for i in range(len(city_data_narrow)) : \n",
    "   \n",
    "    lati=str(city_data_narrow.iloc[i, 3])    \n",
    "    lngi=str(city_data_narrow.iloc[i, 4])\n",
    "    \n",
    "    target_coordinates=lati + ', ' + lngi  \n",
    "    target_search='Hotel'\n",
    "    target_radius=5000\n",
    "    target_type='lodging'\n",
    "\n",
    "   \n",
    "    params={ 'location': target_coordinates,'keyword': target_search,'radius': target_radius,'type': target_type,'key': g_key}\n",
    "\n",
    "    # Base url:\n",
    "    base_url='https://maps.googleapis.com/maps/api/place/nearbysearch/json'\n",
    "    \n",
    "    response=requests.get(base_url, params=params)\n",
    "   \n",
    "    places_data=response.json()\n",
    "    #print(json.dumps(places_data, indent=4, sort_keys=True))\n",
    "    \n",
    "    \n",
    "    print('Looking for Hotels near: ' + str(city_data_narrow.iloc[i, 0]) + ' | Record ' + str(count) + ' of Total ' + str(len(city_data_narrow)))\n",
    "     \n",
    "    try:                                            \n",
    "        name.append(places_data['results'][0]['name'])\n",
    "        city.append(city_data_narrow.iloc[i, 0])\n",
    "        country.append(city_data_narrow.iloc[i, 1])\n",
    "        lat.append(places_data['results'][0]['geometry']['location']['lat'])\n",
    "        lng.append(places_data['results'][0]['geometry']['location']['lng'])\n",
    "    except IndexError:\n",
    "        print('No Hotel Near Location... Skipping...') \n",
    "  \n",
    "    count=count+1\n",
    "    \n",
    "# Print Ending Log Statement:\n",
    "print('-------------------------------')\n",
    "print('Data Retrieval Complete')\n",
    "print('-------------------------------')"
   ]
  },
  {
   "cell_type": "code",
   "execution_count": 6,
   "metadata": {},
   "outputs": [
    {
     "data": {
      "text/html": [
       "<div>\n",
       "<style scoped>\n",
       "    .dataframe tbody tr th:only-of-type {\n",
       "        vertical-align: middle;\n",
       "    }\n",
       "\n",
       "    .dataframe tbody tr th {\n",
       "        vertical-align: top;\n",
       "    }\n",
       "\n",
       "    .dataframe thead th {\n",
       "        text-align: right;\n",
       "    }\n",
       "</style>\n",
       "<table border=\"1\" class=\"dataframe\">\n",
       "  <thead>\n",
       "    <tr style=\"text-align: right;\">\n",
       "      <th></th>\n",
       "      <th>City</th>\n",
       "      <th>Country</th>\n",
       "      <th>Lat</th>\n",
       "      <th>Lng</th>\n",
       "      <th>Hotel Name</th>\n",
       "    </tr>\n",
       "  </thead>\n",
       "  <tbody>\n",
       "    <tr>\n",
       "      <th>0</th>\n",
       "      <td>Chaman</td>\n",
       "      <td>PK</td>\n",
       "      <td>30.928355</td>\n",
       "      <td>66.445181</td>\n",
       "      <td>Al khaleej hotel</td>\n",
       "    </tr>\n",
       "    <tr>\n",
       "      <th>1</th>\n",
       "      <td>Moranbah</td>\n",
       "      <td>AU</td>\n",
       "      <td>-22.002072</td>\n",
       "      <td>148.042501</td>\n",
       "      <td>Oaks Moranbah Suites</td>\n",
       "    </tr>\n",
       "  </tbody>\n",
       "</table>\n",
       "</div>"
      ],
      "text/plain": [
       "       City Country        Lat         Lng            Hotel Name\n",
       "0    Chaman      PK  30.928355   66.445181      Al khaleej hotel\n",
       "1  Moranbah      AU -22.002072  148.042501  Oaks Moranbah Suites"
      ]
     },
     "execution_count": 6,
     "metadata": {},
     "output_type": "execute_result"
    }
   ],
   "source": [
    "hotel_dict={'City': city,'Country': country,'Lat': lat,'Lng': lng,'Hotel Name': name}\n",
    "hotel_df=pd.DataFrame(hotel_dict)\n",
    "hotel_df.count()\n",
    "hotel_df.head()"
   ]
  },
  {
   "cell_type": "markdown",
   "metadata": {},
   "source": [
    "### Hotel Map\n",
    "* Store into variable named `hotel_df`.\n",
    "* Add a \"Hotel Name\" column to the DataFrame.\n",
    "* Set parameters to search for hotels with 5000 meters.\n",
    "* Hit the Google Places API for each city's coordinates.\n",
    "* Store the first Hotel result into the DataFrame.\n",
    "* Plot markers on top of the heatmap."
   ]
  },
  {
   "cell_type": "code",
   "execution_count": 7,
   "metadata": {},
   "outputs": [],
   "source": [
    "# NOTE: Do not change any of the code in this cell\n",
    "\n",
    "# Using the template add the hotel marks to the heatmap\n",
    "info_box_template = \"\"\"\n",
    "<dl>\n",
    "<dt>Name</dt><dd>{Hotel Name}</dd>\n",
    "<dt>City</dt><dd>{City}</dd>\n",
    "<dt>Country</dt><dd>{Country}</dd>\n",
    "</dl>\n",
    "\"\"\"\n",
    "# Store the DataFrame Row\n",
    "# NOTE: be sure to update with your DataFrame name\n",
    "hotel_info = [info_box_template.format(**row) for index, row in hotel_df.iterrows()]\n",
    "locations = hotel_df[[\"Lat\", \"Lng\"]]"
   ]
  },
  {
   "cell_type": "code",
   "execution_count": 8,
   "metadata": {},
   "outputs": [
    {
     "data": {
      "application/vnd.jupyter.widget-view+json": {
       "model_id": "c772ff4914b6427fa3aa49c6cf46e3f0",
       "version_major": 2,
       "version_minor": 0
      },
      "text/plain": [
       "Figure(layout=FigureLayout(border='1px solid black', height='600px', margin='0 auto 0 auto', padding='1px', wi…"
      ]
     },
     "metadata": {},
     "output_type": "display_data"
    }
   ],
   "source": [
    "# Add marker layer ontop of heat map\n",
    "figure_layout={'width': '955px','height': '600px','border': '1px solid black','padding': '1px','margin': '0 auto 0 auto'}\n",
    "fig=gmaps.figure(layout=figure_layout)\n",
    "\n",
    "# Assign the marker layer to a variable:\n",
    "markers=gmaps.marker_layer(locations, info_box_content=hotel_info)\n",
    "# Add the layer to the map:\n",
    "fig.add_layer(markers)\n",
    "fig\n",
    "\n"
   ]
  },
  {
   "cell_type": "code",
   "execution_count": null,
   "metadata": {},
   "outputs": [],
   "source": []
  }
 ],
 "metadata": {
  "kernelspec": {
   "display_name": "Python 3",
   "language": "python",
   "name": "python3"
  },
  "language_info": {
   "codemirror_mode": {
    "name": "ipython",
    "version": 3
   },
   "file_extension": ".py",
   "mimetype": "text/x-python",
   "name": "python",
   "nbconvert_exporter": "python",
   "pygments_lexer": "ipython3",
   "version": "3.8.8"
  },
  "latex_envs": {
   "LaTeX_envs_menu_present": true,
   "autoclose": false,
   "autocomplete": true,
   "bibliofile": "biblio.bib",
   "cite_by": "apalike",
   "current_citInitial": 1,
   "eqLabelWithNumbers": true,
   "eqNumInitial": 1,
   "hotkeys": {
    "equation": "Ctrl-E",
    "itemize": "Ctrl-I"
   },
   "labels_anchors": false,
   "latex_user_defs": false,
   "report_style_numbering": false,
   "user_envs_cfg": false
  }
 },
 "nbformat": 4,
 "nbformat_minor": 4
}
